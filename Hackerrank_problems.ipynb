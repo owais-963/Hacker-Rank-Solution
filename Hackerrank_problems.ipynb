{
  "cells": [
    {
      "cell_type": "markdown",
      "metadata": {
        "id": "twqWYMjHNX3L"
      },
      "source": [
        "**DATE: 04/03/2022**\n",
        "\n",
        "**HACKER RANK PROBLEM**\n",
        "\n",
        "**LEVEL: EASY** \n",
        "\n",
        "\n",
        "\n",
        "\n",
        "\n"
      ]
    },
    {
      "cell_type": "markdown",
      "metadata": {
        "id": "tNhnTsy-IXlU"
      },
      "source": [
        "**Problem no 1**\n",
        "\n",
        "Two children, Lily and Ron, want to share a chocolate bar. Each of the squares has an integer on it.\n",
        "\n",
        "Lily decides to share a contiguous segment of the bar selected such that:\n",
        "\n",
        "The length of the segment matches Ron's birth month, and,\n",
        "The sum of the integers on the squares is equal to his birth day.\n",
        "Determine how many ways she can divide the chocolate.\n",
        "\n"
      ]
    },
    {
      "cell_type": "code",
      "execution_count": null,
      "metadata": {
        "id": "dU3Ynnq4Iddr"
      },
      "outputs": [],
      "source": [
        "def birthday(s, d, m):\n",
        "    count=0\n",
        "    start=0\n",
        "    end=m\n",
        "    if m > len(s):\n",
        "      return count\n",
        "    else:\n",
        "      for i in range(len(s)-(m-1)):\n",
        "        sum_=s[start:end]\n",
        "        sum_=sum(sum_)\n",
        "        start+=1\n",
        "        end+=1\n",
        "        if sum_ == d:\n",
        "          count+=1\n",
        "\n",
        "      return count\n",
        "\n"
      ]
    },
    {
      "cell_type": "code",
      "execution_count": null,
      "metadata": {
        "colab": {
          "base_uri": "https://localhost:8080/"
        },
        "id": "n-NBrdLTTdfa",
        "outputId": "21fe3290-e64d-4042-c492-a11dc138a765"
      },
      "outputs": [
        {
          "name": "stdout",
          "output_type": "stream",
          "text": [
            "2\n"
          ]
        }
      ],
      "source": [
        "s=[2,2,1,3,4]\n",
        "d=4\n",
        "m=2\n",
        "\n",
        "print(birthday(s,d,m))"
      ]
    },
    {
      "cell_type": "markdown",
      "metadata": {
        "id": "G7nX9nfdOolX"
      },
      "source": [
        "**Problem no 2**\n",
        "\n",
        "Given an array of integers and a positive k integer , determine the number of (i,j) pairs where i < j  and arr[i] + arr[j]  is divisible by k."
      ]
    },
    {
      "cell_type": "code",
      "execution_count": null,
      "metadata": {
        "id": "ubMbH5OdJdPy"
      },
      "outputs": [],
      "source": [
        "def divisibleSumPairs(n, k, ar):\n",
        "  count=0\n",
        "  if n > 1:\n",
        "    ar.sort()\n",
        "    for i in range(len(ar)):\n",
        "      for j in range(i+1,len(ar)):\n",
        "          if (((ar[i]+ar[j]) % k) == 0):\n",
        "            count+=1\n",
        "          else:\n",
        "            continue\n",
        "  return count\n",
        "\n",
        "    # Write your code here"
      ]
    },
    {
      "cell_type": "code",
      "execution_count": null,
      "metadata": {
        "colab": {
          "base_uri": "https://localhost:8080/"
        },
        "id": "fchLFHQoLI5y",
        "outputId": "f086f640-de3b-41ed-b208-437e95c2df7a"
      },
      "outputs": [
        {
          "name": "stdout",
          "output_type": "stream",
          "text": [
            "5\n"
          ]
        }
      ],
      "source": [
        "ar=[1, 3, 2, 6, 1, 2]\n",
        "n=len(ar)\n",
        "k=3\n",
        "\n",
        "print(divisibleSumPairs(n,k,ar))\n"
      ]
    },
    {
      "cell_type": "markdown",
      "metadata": {
        "id": "0tpni_LHWWyY"
      },
      "source": [
        "**Problem no 3**\n",
        "\n",
        "Given an array of bird sightings where every element represents a bird type id, determine the id of the most frequently sighted type. If more than 1 type has been spotted that maximum amount, return the smallest of their ids."
      ]
    },
    {
      "cell_type": "code",
      "execution_count": null,
      "metadata": {
        "id": "439dZeI8QDaX"
      },
      "outputs": [],
      "source": [
        "def migratoryBirds(arr):\n",
        "  arr=list(arr)\n",
        "  arr.sort()\n",
        "  count=[]\n",
        "  unique_arr = list(set(arr))\n",
        "  for i in unique_arr:\n",
        "    count.append(arr.count(i))\n",
        "  \n",
        "  index=count.index(max(count))\n",
        "\n",
        "  value=unique_arr[index]\n",
        "\n",
        "  return value\n",
        "\n",
        "    # Write your code here"
      ]
    },
    {
      "cell_type": "code",
      "execution_count": null,
      "metadata": {
        "colab": {
          "base_uri": "https://localhost:8080/"
        },
        "id": "biANWQdARcdK",
        "outputId": "cbd29f69-4f6b-41f3-cf57-b96dbe17fd77"
      },
      "outputs": [
        {
          "name": "stdout",
          "output_type": "stream",
          "text": [
            "1\n"
          ]
        }
      ],
      "source": [
        "arr=[1,1,2,2,3]\n",
        "print(migratoryBirds(arr))"
      ]
    },
    {
      "cell_type": "markdown",
      "metadata": {
        "id": "_ndeu8IwdjTp"
      },
      "source": [
        "**Problem no 4**\n",
        "\n",
        "Marie invented a Time Machine and wants to test it by time-traveling to visit Russia on the Day of the Programmer (the 256th day of the year) during a year in the inclusive range from 1700 to 2700.\n",
        "\n",
        "From 1700 to 1917, Russia's official calendar was the Julian calendar; since 1919 they used the Gregorian calendar system. The transition from the Julian to Gregorian calendar system occurred in 1918, when the next day after January 31st was February 14th. This means that in 1918, February 14th was the 32nd day of the year in Russia.\n",
        "\n",
        "In both calendar systems, February is the only month with a variable amount of days; it has 29 days during a leap year, and 28 days during all other years. In the Julian calendar, leap years are divisible by 4; in the Gregorian calendar, leap years are either of the following:\n",
        "\n",
        "Divisible by 400.\n",
        "Divisible by 4 and not divisible by 100.\n",
        "\n",
        "Given a year, **Y**, find the date of the 256th day of that year according to the official Russian calendar during that year. Then print it in the format dd.mm.yyyy, where dd is the two-digit day, mm is the two-digit month, and yyyy is **Y**.\n",
        "\n",
        "For example, the given **year** = 1984. 1984 is divisible by 4, so it is a leap year. The 256th day of a leap year after 1918 is September 12, so the answer is **12.09.1984**."
      ]
    },
    {
      "cell_type": "code",
      "execution_count": null,
      "metadata": {
        "id": "Aa6nWMTcXyTk"
      },
      "outputs": [],
      "source": [
        "def dayOfProgrammer(year):\n",
        "  date=\"\"\n",
        "  if year>1918:\n",
        "    if (year%400==0) or (year%4==0 and year%100!=0):\n",
        "       date=date+f\"12.09.{year}\"\n",
        "    else:\n",
        "      date=date+f\"13.09.{year}\"\n",
        "  elif year<1918:\n",
        "    if year%4==0:\n",
        "      date=date+f\"12.09.{year}\"\n",
        "    else:\n",
        "      date=date+f\"13.09.{year}\"\n",
        "  else:\n",
        "    date=date+f\"26.09.{year}\"\n",
        "\n",
        "  return date\n",
        "    # Write your code here"
      ]
    },
    {
      "cell_type": "code",
      "execution_count": null,
      "metadata": {
        "colab": {
          "base_uri": "https://localhost:8080/"
        },
        "id": "D14ZwaGmX0Kr",
        "outputId": "2fcfdf7e-c368-4e84-f323-190ef0ab8253"
      },
      "outputs": [
        {
          "name": "stdout",
          "output_type": "stream",
          "text": [
            "12.09.2016\n",
            "13.09.2017\n",
            "12.09.1800\n"
          ]
        }
      ],
      "source": [
        "print(dayOfProgrammer(2016))\n",
        "print(dayOfProgrammer(2017))\n",
        "print(dayOfProgrammer(1800))"
      ]
    },
    {
      "cell_type": "markdown",
      "metadata": {
        "id": "jYnrkBekn0MH"
      },
      "source": [
        "**Problem no 5**\n",
        "\n",
        "Two friends Anna and Brian, are deciding how to split the bill at a dinner. Each will only pay for the items they consume. Brian gets the check and calculates Anna's portion. You must determine if his calculation is correct.\n",
        "\n",
        "For example, assume the bill has the following prices: **bill=[2,4,6]**. Anna declines to eat item **k=bill[2]**which costs 6. If Brian calculates the bill correctly, Anna will pay **(2+4)/2**. If he includes the cost of **bill[2]**, he will calculate **(2+4+6)/2**. In the second case, he should refund 3 to Anna."
      ]
    },
    {
      "cell_type": "code",
      "execution_count": null,
      "metadata": {
        "id": "TP6IkIYQnzk_"
      },
      "outputs": [],
      "source": [
        "def bonAppetit(bill, k, b):\n",
        "  result=\"Bon Appetit\"\n",
        "  if (k >=0 ):\n",
        "    if (sum(bill)-bill[k])/2 != b:\n",
        "      result=int(b-((sum(bill)-bill[k])/2))\n",
        "  return result\n",
        "\n",
        "    # Write your code here\n"
      ]
    },
    {
      "cell_type": "code",
      "execution_count": null,
      "metadata": {
        "colab": {
          "base_uri": "https://localhost:8080/"
        },
        "id": "0bp142rwgucE",
        "outputId": "fd1bfa19-bdf8-47c6-a74a-54445d2fe908"
      },
      "outputs": [
        {
          "name": "stdout",
          "output_type": "stream",
          "text": [
            "5\n",
            "Bon Appetit\n"
          ]
        }
      ],
      "source": [
        "bill=[3, 10, 2, 9]\n",
        "k=1\n",
        "b=12\n",
        "print(bonAppetit(bill,k,b))\n",
        "bill=[3, 10, 2, 9]\n",
        "k=1\n",
        "b=7\n",
        "print(bonAppetit(bill,k,b))\n"
      ]
    },
    {
      "cell_type": "code",
      "execution_count": null,
      "metadata": {
        "id": "Ajq1P--Jg9Jj"
      },
      "outputs": [],
      "source": [
        "def sockMerchant(n, ar):\n",
        "  pair=0\n",
        "  if n > 1:\n",
        "    ar.sort()\n",
        "    unique_ar=list(set(ar))\n",
        "\n",
        "    for i in unique_ar:\n",
        "      count=ar.count(i)\n",
        "      if count>1:\n",
        "        pair+=count//2\n",
        "  return pair\n",
        "    # Write your code here"
      ]
    },
    {
      "cell_type": "code",
      "execution_count": null,
      "metadata": {
        "colab": {
          "base_uri": "https://localhost:8080/"
        },
        "id": "eN9GDOFWtA2B",
        "outputId": "008690b5-04fb-4307-afb7-b0e602ba1342"
      },
      "outputs": [
        {
          "name": "stdout",
          "output_type": "stream",
          "text": [
            "3\n"
          ]
        }
      ],
      "source": [
        "ar=[10, 20, 20, 10, 10, 30, 50, 10, 20]\n",
        "n=len(ar)\n",
        "print(sockMerchant(n,ar))"
      ]
    },
    {
      "cell_type": "markdown",
      "metadata": {
        "id": "Ix998JnXznC9"
      },
      "source": [
        "**Problem no 6**\n",
        "\n",
        "\n",
        "A teacher asks the class to open their books to a page number. A student can either start turning pages from the front of the book or from the back of the book. They always turn pages one at a time. When they open the book, page  is always on the right side:\n",
        "\n",
        "When they flip page **1**, they see pages **2** and **3**. Each page except the last page will always be printed on both sides. The last page may only be printed on the front, given the length of the book. If the book is **n** pages long, and a student wants to turn to page **p**, what is the minimum number of pages to turn? They can start at the beginning or the end of the book.\n",
        "\n",
        "Given **n** and **p**, find and print the minimum number of pages that must be turned in order to arrive at page **p**."
      ]
    },
    {
      "cell_type": "code",
      "execution_count": null,
      "metadata": {
        "id": "Cp083a-UtWYI"
      },
      "outputs": [],
      "source": [
        "def pageCount(n, p):\n",
        "    turn=0\n",
        "    min=p-1\n",
        "    if n-p <= min:\n",
        "      min = n-p\n",
        "      if (n % 2 == 0) and (p % 2 != 0):\n",
        "        turn+=(min//2)+1\n",
        "      else:\n",
        "        turn+=min//2\n",
        "    else:\n",
        "      if p % 2 == 0:\n",
        "        turn+=p//2\n",
        "      else:\n",
        "        turn+=min//2\n",
        "\n",
        "    return int(turn)\n",
        "\n",
        "    # Write your code here"
      ]
    },
    {
      "cell_type": "code",
      "execution_count": null,
      "metadata": {
        "colab": {
          "base_uri": "https://localhost:8080/"
        },
        "id": "x72i1uJ3v2XF",
        "outputId": "f0c4b8ee-1218-4468-e769-7b51c99ab68c"
      },
      "outputs": [
        {
          "name": "stdout",
          "output_type": "stream",
          "text": [
            "1\n",
            "1\n",
            "0\n",
            "70\n"
          ]
        }
      ],
      "source": [
        "n=5\n",
        "p=3\n",
        "print(pageCount(n,p))\n",
        "n=6\n",
        "p=2\n",
        "print(pageCount(n,p))\n",
        "n=5\n",
        "p=4\n",
        "print(pageCount(n,p))\n",
        "n=18183\n",
        "p=18042\n",
        "print(pageCount(n,p))\n"
      ]
    },
    {
      "cell_type": "markdown",
      "metadata": {},
      "source": [
        "Date 11/10/2022\n",
        "\n",
        "Problem No 07\n",
        "\n",
        "\n",
        "An avid hiker keeps meticulous records of their hikes. During the last hike that took exactly  steps, for every step it was noted if it was an uphill, , or a downhill,  step. Hikes always start and end at sea level, and each step up or down represents a  unit change in altitude. We define the following terms:\n",
        "\n",
        "A mountain is a sequence of consecutive steps above sea level, starting with a step up from sea level and ending with a step down to sea level.\n",
        "A valley is a sequence of consecutive steps below sea level, starting with a step down from sea level and ending with a step up to sea level.\n",
        "Given the sequence of up and down steps during a hike, find and print the number of valleys walked through.\n",
        "\n",
        "Function Description\n",
        "\n",
        "Complete the countingValleys function in the editor below.\n",
        "\n",
        "countingValleys has the following parameter(s):\n",
        "\n",
        "int steps: the number of steps on the hike\n",
        "string path: a string describing the path\n",
        "Returns\n",
        "\n",
        "int: the number of valleys traversed\n",
        "Input Format\n",
        "\n",
        "The first line contains an integer steps, the number of steps in the hike.\n",
        "The second line contains a single string path, of steps characters that describe the path.\n"
      ]
    },
    {
      "cell_type": "code",
      "execution_count": null,
      "metadata": {
        "id": "F6JP7sTb9TuI"
      },
      "outputs": [
        {
          "name": "stdout",
          "output_type": "stream",
          "text": [
            "2\n"
          ]
        }
      ],
      "source": [
        "def countingValleys(steps, path):\n",
        "    pre_level=0\n",
        "    new_level=0\n",
        "    valley=0\n",
        "\n",
        "    path=path.lower()\n",
        "\n",
        "    for i in path:\n",
        "\n",
        "        if i == \"u\":\n",
        "            new_level += 1\n",
        "        elif i == \"d\":\n",
        "            new_level -= 1\n",
        "        \n",
        "        if (pre_level==0) and (new_level<pre_level):\n",
        "            valley += 1\n",
        "        \n",
        "        pre_level = new_level\n",
        "\n",
        "\n",
        "    return valley\n",
        "\n",
        "\n",
        "#    ----- TEST CASE -----   #\n",
        "\n",
        "\n",
        "path = \"DDUUDDUDUUUD\"\n",
        "steps=8\n",
        "\n",
        "\n",
        "print(countingValleys(steps, path))\n"
      ]
    },
    {
      "cell_type": "markdown",
      "metadata": {},
      "source": [
        "_    _      /\\_ \n",
        " \\  / \\    /    \n",
        "  \\/   \\/\\/"
      ]
    },
    {
      "cell_type": "markdown",
      "metadata": {},
      "source": [
        "Date 12-10-2022\n",
        "\n",
        "Problem No 12\n",
        "\n",
        "We define a magic square to be an nxn matrix of distinct positive integers from 1 to n^2 where the sum of any row, column, or diagonal of length n is always equal to the same number: the magic constant.\n",
        "\n",
        "You will be given a 3x3 matrix  of integers in the inclusive range [1,9]. We can convert any digit  to any other digit  in the range  at cost of . Given , convert it into a magic square at minimal cost. Print this cost on a new line.\n",
        "\n",
        "Note: The resulting magic square must contain distinct integers in the inclusive range .\n",
        "\n",
        "Example\n",
        "\n",
        "s = [[5, 3, 4], [1, 5, 8], [6, 4, 2]]\n",
        "\n",
        "5 3 4\n",
        "1 5 8\n",
        "6 4 2\n",
        "\n",
        "We can convert it to the following magic square:\n",
        "\n",
        "8 3 4\n",
        "1 5 9\n",
        "6 7 2\n",
        "\n",
        "This took three replacements at a cost of |5-8| + |8-9| |4-7| = 7."
      ]
    },
    {
      "cell_type": "code",
      "execution_count": null,
      "metadata": {},
      "outputs": [
        {
          "name": "stdout",
          "output_type": "stream",
          "text": [
            "1\n",
            "7\n",
            "4\n"
          ]
        }
      ],
      "source": [
        "import copy as cp\n",
        "\n",
        "# Function to rotate the matrix\n",
        "# 90 degree clockwise\n",
        "def rotateCube(A):\n",
        "    N = 3\n",
        "    for i in range(N // 2):\n",
        "        for j in range(i, N - i - 1):\n",
        "            temp = A[i][j]\n",
        "            A[i][j] = A[N - 1 - j][i]\n",
        "            A[N - 1 - j][i] = A[N - 1 - i][N - 1 - j]\n",
        "            A[N - 1 - i][N - 1 - j] = A[j][N - 1 - i]\n",
        "            A[j][N - 1 - i] = temp\n",
        "\n",
        "## function to reflect matrix along y-axis\n",
        "\n",
        "def reflectCube(A):\n",
        "    for i in range(3):\n",
        "        hold = A[i][0]\n",
        "        A[i][0]=A[i][-1]\n",
        "        A[i][-1]=hold\n",
        "\n",
        "\n",
        "def allMagicCube():\n",
        "    allPoMcs=[]\n",
        "    magicCube=[[8,1,6],[3,5,7],[4,9,2]]\n",
        "    allPoMcs.append(cp.deepcopy(magicCube))\n",
        "    rfCube=cp.deepcopy(magicCube)\n",
        "    reflectCube(rfCube)\n",
        "    allPoMcs.append(cp.deepcopy(rfCube))\n",
        "    for i in range(3):\n",
        "        rotateCube(magicCube)\n",
        "        allPoMcs.append(cp.deepcopy(magicCube))\n",
        "        rotateCube(rfCube)\n",
        "        allPoMcs.append(cp.deepcopy(rfCube))\n",
        "    \n",
        "    return allPoMcs\n",
        "\n",
        "def formingMagicSquare(s):\n",
        "\n",
        "    magicCube=allMagicCube()\n",
        "\n",
        "    cost=[]\n",
        "\n",
        "\n",
        "\n",
        "    for i in magicCube:\n",
        "        initCost=0\n",
        "        for j in range(len(i[0])):\n",
        "\n",
        "            for k in range(len(i[0])):\n",
        "\n",
        "                initCost += abs(s[j][k]-i[j][k])\n",
        "\n",
        "        cost.append(abs(initCost))\n",
        "\n",
        "\n",
        "    return min(cost)\n",
        "\n",
        "\n",
        "\n",
        "###     ---------------      TEST CASES      ----------------       ###\n",
        "\n",
        "\n",
        "print(formingMagicSquare([[4,9,2],[3,5,7],[8,1,5]]))\n",
        "print(formingMagicSquare([[5, 3, 4], [1, 5, 8], [6, 4, 2]]))\n",
        "print(formingMagicSquare([[4,8,2],[4,5,7],[6,1,6]]))\n",
        "\n"
      ]
    },
    {
      "cell_type": "markdown",
      "metadata": {},
      "source": [
        "Problem No 13\n",
        "\n",
        "14-10-2022\n",
        "\n",
        "Given an array of integers, find the longest subarray where the absolute difference between any two elements is less than or equal to 1.\n",
        "\n",
        "Example\n",
        "\n",
        "a=[1,1,2,2,4,4,5,5,5]\n",
        "\n",
        "There are two subarrays meeting the criterion: [1,1,2,2] and [4,4,5,5,5]. The maximum length subarray has 5 elements.\n",
        "\n",
        "Function Description\n",
        "\n",
        "Complete the pickingNumbers function in the editor below.\n",
        "\n",
        "pickingNumbers has the following parameter(s):\n",
        "\n",
        "int a[n]: an array of integers\n",
        "\n",
        "Returns\n",
        "\n",
        "int: the length of the longest subarray that meets the criterion\n",
        "Input Format\n",
        "\n",
        "The first line contains a single integer n, the size of the array a.\n",
        "The second line contains n space-separated integers, each an a[i]."
      ]
    },
    {
      "cell_type": "code",
      "execution_count": 6,
      "metadata": {},
      "outputs": [
        {
          "name": "stdout",
          "output_type": "stream",
          "text": [
            "3\n"
          ]
        }
      ],
      "source": [
        "def pickingNumbers(a):\n",
        "    a=list(a)\n",
        "    a.sort()\n",
        "    subArrays=[]\n",
        "    for i in range(len(a)):\n",
        "        lenOfsubArray=1\n",
        "        j=i\n",
        "        while ((j<(len(a)-1)) and (a[j+1]-a[i]<=1)):\n",
        "            lenOfsubArray+=1\n",
        "            j+=1\n",
        "        subArrays.append(lenOfsubArray)\n",
        "\n",
        "    return max(subArrays)\n",
        "\n",
        "\n",
        "###     ---------------     TEST CASE       ------------------      ###\n",
        "\n",
        "print(pickingNumbers([4,6,5,3,3,1]))\n"
      ]
    },
    {
      "cell_type": "markdown",
      "metadata": {},
      "source": [
        "Problem No 14\n",
        "\n",
        "HackerRank Problem Link = https://www.hackerrank.com/challenges/climbing-the-leaderboard/problem?isFullScreen=true&h_r=next-challenge&h_v=zen\n",
        "\n",
        "\n",
        "15-10-2022\n",
        "\n",
        "An arcade game player wants to climb to the top of the leaderboard and track their ranking. The game uses Dense Ranking, so its leaderboard works like this:\n",
        "\n",
        "The player with the highest score is ranked number 1 on the leaderboard.\n",
        "Players who have equal scores receive the same ranking number, and the next player(s) receive the immediately following ranking number.\n",
        "\n",
        "Example\n",
        "\n",
        "ranked=[100,90,90,80]\n",
        "player=[70,80,105]\n",
        "\n",
        "The ranked players will have ranks 1, 2, 2, and 3, respectively. If the player's scores are 70, 80 and 105, their rankings after each game are 4th, 3rd and 1st. Return [4,3,1].\n",
        "\n",
        "Function Description\n",
        "\n",
        "Complete the climbingLeaderboard function in the editor below.\n",
        "\n",
        "climbingLeaderboard has the following parameter(s):\n",
        "\n",
        "int ranked[n]: the leaderboard scores\n",
        "int player[m]: the player's scores\n",
        "Returns\n",
        "\n",
        "int[m]: the player's rank after each new score\n",
        "Input Format\n",
        "\n",
        "The first line contains an integer n, the number of players on the leaderboard.\n",
        "The next line contains n space-separated integers ranked[i], the leaderboard scores in decreasing order.\n",
        "The next line contains an integer, m, the number games the player plays.\n",
        "The last line contains m space-separated integers player[j], the game scores.\n"
      ]
    },
    {
      "cell_type": "code",
      "execution_count": 18,
      "metadata": {},
      "outputs": [
        {
          "name": "stdout",
          "output_type": "stream",
          "text": [
            "13\n",
            "[6, 4, 2, 1]\n"
          ]
        }
      ],
      "source": [
        "def climbingLeaderboard(ranked, player):\n",
        "    leaderBoard=[]\n",
        "    for i in player:\n",
        "        ranked.append(i)\n",
        "        leaderBoard.append(binarySearch(ranked,i))\n",
        "\n",
        "    return leaderBoard\n",
        "\n",
        "#ranked=[100,100,50,40,40,20,10]\n",
        "#player=[5,25,50,120]\n",
        "\n",
        "\n",
        "\n",
        "\n",
        "\n",
        "\n",
        "def binarySearch(arr,x):\n",
        "    positonOfX=None\n",
        "    arr=list(set(arr))\n",
        "    arr.sort(reverse=True)\n",
        "    _min=0\n",
        "    _max=len(arr)-1\n",
        "    pre_mid=-1\n",
        "\n",
        "    \n",
        "\n",
        "    Flag=True\n",
        "    i=0\n",
        "    while Flag:\n",
        "\n",
        "        mid=(_max + _min)//2\n",
        "\n",
        "        if mid == pre_mid:\n",
        "\n",
        "            break\n",
        "        else:\n",
        "\n",
        "            pre_mid=mid\n",
        "            \n",
        "            if arr[mid] > x:\n",
        "\n",
        "                if mid == 0:\n",
        "                \n",
        "                    positonOfX=None\n",
        "                    break\n",
        "\n",
        "                else:\n",
        "\n",
        "                    _min = mid+1\n",
        "\n",
        "            elif arr[mid] < x:\n",
        "\n",
        "                if mid == len(arr)-1:\n",
        "                \n",
        "                    positonOfX=None\n",
        "                    break\n",
        "\n",
        "                else:            \n",
        "\n",
        "                    _max = mid-1\n",
        "\n",
        "            else:\n",
        "\n",
        "                positonOfX=mid+1\n",
        "\n",
        "                Flag = False\n",
        "\n",
        "                break\n",
        "\n",
        "            i+=1   \n",
        "\n",
        "    return(positonOfX)\n",
        "\n",
        "\n",
        "\n",
        "\n",
        "\n",
        "###     ------------    TEST CASE   -----------     ###\n",
        "\n",
        "\n",
        "arr=[2,5,8,12,11,10,6,15,13,14,17,1,2,20,18,19,20]\n",
        "\n",
        "x=5\n",
        "\n",
        "print(binarySearch(arr,x))\n",
        "\n",
        "\n",
        "ranked=[100,100,50,40,40,20,10]\n",
        "player=[5,25,50,120]\n",
        "\n",
        "print(climbingLeaderboard(ranked, player))"
      ]
    },
    {
      "cell_type": "code",
      "execution_count": 19,
      "metadata": {},
      "outputs": [],
      "source": [
        "with open(\"abc.txt\",\"w\") as f:\n",
        "    f.write(\"How are you.\\nwhat is your name\")\n",
        "    f.close "
      ]
    },
    {
      "cell_type": "code",
      "execution_count": 22,
      "metadata": {},
      "outputs": [
        {
          "name": "stdout",
          "output_type": "stream",
          "text": [
            "<class 'str'>\n",
            "['How', 'are', 'you.\\nwhat', 'is', 'your', 'name']\n"
          ]
        }
      ],
      "source": [
        "with open(\"abc.txt\",\"r\") as f:\n",
        "    a=f.read()\n",
        "    print(type(a))\n",
        "    a=a.split(\" \")\n",
        "    print(a)"
      ]
    },
    {
      "cell_type": "code",
      "execution_count": 31,
      "metadata": {},
      "outputs": [
        {
          "name": "stdout",
          "output_type": "stream",
          "text": [
            "<class 'list'>\n",
            "['999997617', '999994997', '999990955', '999985183', '999977480', '999974636', '999969250', '999963747', '999961024', '999960782', '999960569', '999958677', '999956429', '999947978', '999945192', '999938459', '999935546', '999929600', '999928261', '999924219', '999923103', '999922438', '999918822', '999905400', '999905227', '999904718', '999904666', '999899263', '999895907', '999876013', '999872842', '999867457', '999867305', '999867204', '999863632', '999853718', '999853639', '999846913', '999845603', '999842881', '999842562', '999835309', '999815123', '999814087', '999811055', '999801094', '999800986', '999800701', '999799523', '999798938', '999778941', '999778624', '999764683', '999758910', '999747917', '999743520', '999740173', '999726812', '999726296', '999723957', '999719865', '999708861', '999708803', '999708233', '999699931', '999699105', '999697805', '999697158', '999693285', '999688756', '999681586', '999679706', '999668560', '999662702', '999658434', '999652329', '999639076', '999637524', '999626644', '999621021', '999618895', '999615134', '999610547', '999603550', '999596434', '999594064', '999591906', '999591257', '999590986', '999587496', '999579151', '999575878', '999568873', '999553726', '999548511', '999544295', '999535869', '999529955', '999528064', '999527323', '999525760', '999525267', '999523401', '999521952', '999500433', '999499874', '999477745', '999475304', '999473868', '999470951', '999466173', '999464696', '999457862', '999453350', '999452666', '999434174', '999433571', '999431765', '999429702', '999423060', '999408316', '999394876', '999394374', '999393964', '999393616', '999388255', '999373978', '999371521', '999369032', '999368185', '999362857', '999362271', '999361483', '999358151', '999356411', '999341513', '999341027', '999333959', '999331987', '999322393', '999318898', '999313095', '999309633', '999294424', '999290760', '999288870', '999284130', '999283802', '999281852', '999274037', '999269675', '999267001', '999266405', '999253547', '999244758', '999239200', '999238936', '999238473', '999229146', '999225594', '999223401', '999214302', '999209480', '999208447', '999198203', '999197868', '999194234', '999190838', '999184583', '999179805', '999171368', '999165807', '999154905', '999146488', '999143524', '999140525', '999140056', '999137429', '999130885', '999126944', '999124253', '999118384', '999113607', '999107598', '999104367', '999093605', '999091386', '999088241', '999070809', '999062645', '999057718', '999051017', '999047364', '999042201', '999039785', '999038916', '999018119', '999015842', '998999031', '998997493', '998995465', '998994053', '998983732', '998969495', '998967607', '998964269', '998963470', '998961928', '998959059', '998951848', '998944590', '998919647', '998919284', '998914473', '998903757', '998896522', '998889555', '998885725', '998880315', '998878474', '998874302', '998869791', '998867174', '998842364', '998839572', '998839016', '998837181', '998825587', '998817738', '998817380', '998812686', '998799023', '998797566', '998796164', '998794881', '998791412', '998789798', '998772838', '998769229', '998767383', '998764133', '998746084', '998743000', '998731707', '998728783', '998725771', '998722821', '998720055', '998718978', '998717153', '998698857', '998697709', '998692674', '998688413', '998687904', '998685717', '998679726', '998677378', '998665390', '998660603', '998654932', '998644005', '998643406', '998642034', '998636595', '998635085', '998632891', '998625838', '998621734', '998616174', '998608836', '998593506', '998589266', '998575835', '998572309', '998559986', '998559009', '998551294', '998544974', '998544469', '998542679', '998529211', '998529208', '998525348', '998524887', '998520491', '998518724', '998517102', '998508784', '998507552', '998506143', '998502889', '998502840', '998500515', '998490912', '998486791', '998485496', '998476156', '998475612', '998471781', '998470332', '998467778', '998467548', '998465608', '998465127', '998460573', '998448134', '998446706', '998442767', '998427345', '998423911', '998420564', '998419729', '998417205', '998416058', '998395510', '998392126', '998383718', '998380516', '998379887', '998376432', '998376075', '998375292', '998351368', '998345178', '998343942', '998340459', '998331664', '998322398', '998314478', '998311365', '998309706', '998305245', '998294618', '998282990', '998274727', '998274714', '998271288', '998265104', '998261778', '998258163', '998253507', '998253244', '998253137', '998251111', '998247919', '998241666', '998235000', '998230170', '998230046', '998225694', '998225375', '998225091', '998223423', '998222377', '998208867', '998185833', '998183102', '998175977', '998175560', '998165870', '998155597', '998151108', '998148526', '998143295', '998137869', '998128556', '998115706', '998111300', '998108077', '998104058', '998101000', '998094970', '998087445', '998080502', '998070774', '998064901', '998064289', '998064011', '998057466', '998051926', '998046625', '998038706', '998033775', '998031715', '998017675', '998008491', '997999205', '997978368', '997976605', '997974221', '997971095', '997959313', '997950763', '997948560', '997946501', '997945615', '997943005', '997931374', '997923802', '997923100', '997922428', '997915682', '997912755', '997911270', '997910462', '997903092', '997901271', '997896421', '997894944', '997876463', '997867467', '997865386', '997860306', '997851710', '997851621', '997847980', '997843254', '997835598', '997819241', '997811037', '997803520', '997796825', '997793478', '997793059', '997789542', '997781753', '997781232', '997775737', '997770975', '997767511', '997755322', '997740910', '997734196', '997732238', '997726187', '997725655', '997716025', '997711772', '997709576', '997687423', '997684315', '997672293', '997653623', '997637003', '997635221', '997631959', '997627086', '997622764', '997622056', '997620912', '997620523', '997620497', '997620246', '997612433', '997607316', '997607143', '997601841', '997599673', '997598680', '997596496', '997591639', '997587559', '997582390', '997580116', '997576821', '997563425', '997557996', '997553449', '997551958', '997548367', '997546023', '997542981', '997540212', '997539968', '997539931', '997534836', '997534703', '997532871', '997527439', '997525952', '997519377', '997519369', '997514950', '997509102', '997496245', '997493777', '997490829', '997482723', '997474230', '997472886', '997472830', '997461099', '997452743', '997446534', '997445700', '997442037', '997436679', '997406951', '997403661', '997396353', '997395975', '997392133', '997389835', '997387767', '997385358', '997366576', '997364742', '997361223', '997359366', '997342934', '997331409', '997330953', '997324995', '997324515', '997310345', '997291477', '997290495', '997288527', '997283575', '997281973', '997279910', '997279522', '997277781', '997275919', '997272181', '997268617', '997267263', '997265988', '997261790', '997256414', '997251691', '997241435', '997238872', '997238594', '997237929', '997232527', '997231066', '997229721', '997226669', '997218895', '997218633', '997218416', '997213616', '997212949', '997208616', '997205272', '997203078', '997188128', '997187334', '997177460', '997171642', '997161794', '997155771', '997148580', '997146861', '997145215', '997138203', '997134956', '997133203', '997126479', '997116714', '997115749', '997114833', '997110683', '997110003', '997100660', '997097933', '997097274', '997086405', '997078409', '997075777', '997069175', '997051266', '997047241', '997040032', '997026201', '997020548', '997013966', '997004415', '997001679', '996999485', '996995217', '996980678', '996979935', '996979639', '996970675', '996967210', '996962522', '996954300', '996945748', '996945495', '996920931', '996918943', '996917487', '996912997', '996903665', '996899956', '996886389', '996878766', '996874804', '996864326', '996857934', '996849844', '996848513', '996843762', '996839850', '996828517', '996826680', '996826352', '996817320', '996814570', '996813971', '996805169', '996804307', '996801891', '996800870', '996800683', '996797866', '996795415', '996786172', '996780599', '996775705', '996773661', '996770419', '996767714', '996760154', '996737886', '996731138', '996724110', '996721521', '996708279', '996707634', '996703150', '996685448', '996679111', '996672461', '996659312', '996651301', '996650417', '996648220', '996636460', '996633873', '996626164', '996611462', '996596547', '996595466', '996588397', '996575570', '996571039', '996559622', '996555818', '996553857', '996528511', '996522278', '996512388', '996491881', '996489661', '996488947', '996486249', '996483724', '996479209', '996479108', '996478190', '996471618', '996464797', '996462571', '996452140', '996439006', '996433313', '996430043', '996423822', '996413182', '996408858', '996408600', '996403486', '996390236', '996388305', '996384929', '996383706', '996375899', '996373167', '996370618', '996364254', '996364203', '996360033', '996358627', '996353608', '996348800', '996336719', '996331292', '996327049', '996307037', '996306675', '996301622', '996299474', '996295232', '996289697', '996289361', '996285635', '996282026', '996278809', '996271199', '996271156', '996264606', '996264517', '996259365', '996253328', '996244788', '996244139', '996232630', '996224483', '996222684', '996216798', '996215693', '996212802', '996205399', '996204530', '996197100', '996195060', '996194590', '996191232', '996186819', '996178443', '996177489', '996170954', '996169682', '996164328', '996158526', '996147754', '996138575', '996126380', '996126242', '996123515', '996122929', '996121132', '996118620', '996112074', '996105076', '996102588', '996101167', '996096986', '996077969', '996075858', '996071989', '996067649', '996066481', '996064336', '996063971', '996063683', '996063180', '996061336', '996060954', '996053665', '996051527', '996048124', '996046362', '996038706', '996034123', '996018063', '996006697', '995974396', '995972688', '995966663', '995959414', '995953477', '995950142', '995941940', '995905010', '995900745', '995899818', '995899573', '995896910', '995892603', '995892256', '995885200', '995883102', '995880093', '995871817', '995869288', '995868232', '995862470', '995852378', '995849537', '995848756', '995848128', '995838344', '995836565', '995825332', '995821585', '995819010', '995817075', '995815306', '995797270', '995789447', '995784098', '995771854', '995769272', '995768089', '995761911', '995761179', '995758540', '995738184', '995729195', '995724633', '995720732', '995718956', '995714552', '995713819', '995710492', '995691535', '995690259', '995676968', '995675649', '995673297', '995669053', '995664570', '995663444', '995660918', '995658212', '995657762', '995654635', '995652405', '995648431', '995644976', '995641331', '995639105', '995634374', '995617256', '995617203', '995609059', '995606811', '995604102', '995586122', '995570337', '995563936', '995563812', '995553915', '995550455', '995548122', '995540506', '995539082', '995535829', '995532205', '995525757', '995522427', '995519300', '995517127', '995510319', '995506999', '995506306', '995504775', '995504090', '995502288', '995486179', '995482505', '995473364', '995468904', '995465327', '995460235', '995453479', '995445857', '995438998', '995408755', '995408362', '995397571', '995393009', '995385716', '995364841', '995364731', '995364462', '995359456', '995359191', '995357246', '995354745', '995350970', '995343566', '995337378', '995335018', '995321376', '995318634', '995313064', '995312428', '995307407', '995305682', '995286916', '995280084', '995274026', '995273971', '995270500', '995260243', '995243872', '995243307', '995237600', '995227227', '995225448', '995224769', '995218149', '995218106', '995199324', '995196376', '995192064', '995191859', '995187411', '995186676', '995172548', '995169578', '995158548', '995157815', '995153182', '995142019', '995135034', '995134332', '995124898', '995117672', '995117285', '995110880', '995105705', '995092302', '995087242', '995082659', '995078950', '995051139', '995040691', '995037347', '995034472', '995025467', '995019879', '995016167', '995000571', '995000061', '994990878', '994982420', '994976679', '994974368', '994961481', '994959485', '994948200', '994947680', '994946903', '994937563', '994935909', '994934696', '994927468', '994913714', '994909912', '994909315', '994908317', '994907581', '994905715', '994894621', '994890883', '994889390', '994861301', '994858209', '994850687', '994849458', '994849116', '994843697', '994838389', '994836859', '994834622', '994834417', '994830400', '994830099', '994826438', '994813996', '994811324', '994810440', '994810169', '994809185', '994807138', '994803395', '994802727', '994788531', '994783887', '994780323', '994775024', '994758841', '994752877', '994746515', '994746007', '994741643', '994728365', '994711455', '994703871', '994702614', '994700081', '994696651', '994691383', '994681798', '994666511', '994662981', '994653814', '994651122', '994649770', '994640534', '994633739', '994631089', '994627224']\n",
            "994503943\n",
            "<class 'str'>\n"
          ]
        }
      ],
      "source": [
        "with open(\"C:/Users/owais/Desktop/Hacker-Rank-Solution-main/ranked.txt\",\"r\") as f:\n",
        "    ranked=f.read()\n",
        "    ranked=ranked.split(\" \")\n",
        "    # for i in ranked:\n",
        "    #     ranked.pop(i)\n",
        "    #     ranked.append(int(i))\n",
        "    print(type(ranked))\n",
        "    print(ranked[:1000])\n",
        "    i=ranked[1021]\n",
        "    print(i)\n",
        "    print(type(i))\n",
        "    i=int(i)\n",
        "    print(type(i))"
      ]
    },
    {
      "cell_type": "code",
      "execution_count": null,
      "metadata": {},
      "outputs": [],
      "source": []
    }
  ],
  "metadata": {
    "colab": {
      "collapsed_sections": [],
      "name": "Hackerrank-problems.ipynb",
      "provenance": []
    },
    "kernelspec": {
      "display_name": "Python 3.9.7 ('base')",
      "language": "python",
      "name": "python3"
    },
    "language_info": {
      "codemirror_mode": {
        "name": "ipython",
        "version": 3
      },
      "file_extension": ".py",
      "mimetype": "text/x-python",
      "name": "python",
      "nbconvert_exporter": "python",
      "pygments_lexer": "ipython3",
      "version": "3.9.7"
    },
    "vscode": {
      "interpreter": {
        "hash": "4f90aa362a5d1c98ba2cb40d4909fec7c56c3fbc8f3fc1d3b89bf882dad18a1e"
      }
    }
  },
  "nbformat": 4,
  "nbformat_minor": 0
}
