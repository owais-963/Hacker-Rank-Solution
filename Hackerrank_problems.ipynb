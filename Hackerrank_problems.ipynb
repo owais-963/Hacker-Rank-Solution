{
  "cells": [
    {
      "cell_type": "markdown",
      "metadata": {
        "id": "twqWYMjHNX3L"
      },
      "source": [
        "**DATE: 04/03/2022**\n",
        "\n",
        "**HACKER RANK PROBLEM**\n",
        "\n",
        "**LEVEL: EASY** \n",
        "\n",
        "\n",
        "\n",
        "\n",
        "\n"
      ]
    },
    {
      "cell_type": "markdown",
      "metadata": {
        "id": "tNhnTsy-IXlU"
      },
      "source": [
        "**Problem no 1**\n",
        "\n",
        "Two children, Lily and Ron, want to share a chocolate bar. Each of the squares has an integer on it.\n",
        "\n",
        "Lily decides to share a contiguous segment of the bar selected such that:\n",
        "\n",
        "The length of the segment matches Ron's birth month, and,\n",
        "The sum of the integers on the squares is equal to his birth day.\n",
        "Determine how many ways she can divide the chocolate.\n",
        "\n"
      ]
    },
    {
      "cell_type": "code",
      "execution_count": null,
      "metadata": {
        "id": "dU3Ynnq4Iddr"
      },
      "outputs": [],
      "source": [
        "def birthday(s, d, m):\n",
        "    count=0\n",
        "    start=0\n",
        "    end=m\n",
        "    if m > len(s):\n",
        "      return count\n",
        "    else:\n",
        "      for i in range(len(s)-(m-1)):\n",
        "        sum_=s[start:end]\n",
        "        sum_=sum(sum_)\n",
        "        start+=1\n",
        "        end+=1\n",
        "        if sum_ == d:\n",
        "          count+=1\n",
        "\n",
        "      return count\n",
        "\n"
      ]
    },
    {
      "cell_type": "code",
      "execution_count": null,
      "metadata": {
        "colab": {
          "base_uri": "https://localhost:8080/"
        },
        "id": "n-NBrdLTTdfa",
        "outputId": "21fe3290-e64d-4042-c492-a11dc138a765"
      },
      "outputs": [
        {
          "name": "stdout",
          "output_type": "stream",
          "text": [
            "2\n"
          ]
        }
      ],
      "source": [
        "s=[2,2,1,3,4]\n",
        "d=4\n",
        "m=2\n",
        "\n",
        "print(birthday(s,d,m))"
      ]
    },
    {
      "cell_type": "markdown",
      "metadata": {
        "id": "G7nX9nfdOolX"
      },
      "source": [
        "**Problem no 2**\n",
        "\n",
        "Given an array of integers and a positive k integer , determine the number of (i,j) pairs where i < j  and arr[i] + arr[j]  is divisible by k."
      ]
    },
    {
      "cell_type": "code",
      "execution_count": null,
      "metadata": {
        "id": "ubMbH5OdJdPy"
      },
      "outputs": [],
      "source": [
        "def divisibleSumPairs(n, k, ar):\n",
        "  count=0\n",
        "  if n > 1:\n",
        "    ar.sort()\n",
        "    for i in range(len(ar)):\n",
        "      for j in range(i+1,len(ar)):\n",
        "          if (((ar[i]+ar[j]) % k) == 0):\n",
        "            count+=1\n",
        "          else:\n",
        "            continue\n",
        "  return count\n",
        "\n",
        "    # Write your code here"
      ]
    },
    {
      "cell_type": "code",
      "execution_count": null,
      "metadata": {
        "colab": {
          "base_uri": "https://localhost:8080/"
        },
        "id": "fchLFHQoLI5y",
        "outputId": "f086f640-de3b-41ed-b208-437e95c2df7a"
      },
      "outputs": [
        {
          "name": "stdout",
          "output_type": "stream",
          "text": [
            "5\n"
          ]
        }
      ],
      "source": [
        "ar=[1, 3, 2, 6, 1, 2]\n",
        "n=len(ar)\n",
        "k=3\n",
        "\n",
        "print(divisibleSumPairs(n,k,ar))\n"
      ]
    },
    {
      "cell_type": "markdown",
      "metadata": {
        "id": "0tpni_LHWWyY"
      },
      "source": [
        "**Problem no 3**\n",
        "\n",
        "Given an array of bird sightings where every element represents a bird type id, determine the id of the most frequently sighted type. If more than 1 type has been spotted that maximum amount, return the smallest of their ids."
      ]
    },
    {
      "cell_type": "code",
      "execution_count": null,
      "metadata": {
        "id": "439dZeI8QDaX"
      },
      "outputs": [],
      "source": [
        "def migratoryBirds(arr):\n",
        "  arr=list(arr)\n",
        "  arr.sort()\n",
        "  count=[]\n",
        "  unique_arr = list(set(arr))\n",
        "  for i in unique_arr:\n",
        "    count.append(arr.count(i))\n",
        "  \n",
        "  index=count.index(max(count))\n",
        "\n",
        "  value=unique_arr[index]\n",
        "\n",
        "  return value\n",
        "\n",
        "    # Write your code here"
      ]
    },
    {
      "cell_type": "code",
      "execution_count": null,
      "metadata": {
        "colab": {
          "base_uri": "https://localhost:8080/"
        },
        "id": "biANWQdARcdK",
        "outputId": "cbd29f69-4f6b-41f3-cf57-b96dbe17fd77"
      },
      "outputs": [
        {
          "name": "stdout",
          "output_type": "stream",
          "text": [
            "1\n"
          ]
        }
      ],
      "source": [
        "arr=[1,1,2,2,3]\n",
        "print(migratoryBirds(arr))"
      ]
    },
    {
      "cell_type": "markdown",
      "metadata": {
        "id": "_ndeu8IwdjTp"
      },
      "source": [
        "**Problem no 4**\n",
        "\n",
        "Marie invented a Time Machine and wants to test it by time-traveling to visit Russia on the Day of the Programmer (the 256th day of the year) during a year in the inclusive range from 1700 to 2700.\n",
        "\n",
        "From 1700 to 1917, Russia's official calendar was the Julian calendar; since 1919 they used the Gregorian calendar system. The transition from the Julian to Gregorian calendar system occurred in 1918, when the next day after January 31st was February 14th. This means that in 1918, February 14th was the 32nd day of the year in Russia.\n",
        "\n",
        "In both calendar systems, February is the only month with a variable amount of days; it has 29 days during a leap year, and 28 days during all other years. In the Julian calendar, leap years are divisible by 4; in the Gregorian calendar, leap years are either of the following:\n",
        "\n",
        "Divisible by 400.\n",
        "Divisible by 4 and not divisible by 100.\n",
        "\n",
        "Given a year, **Y**, find the date of the 256th day of that year according to the official Russian calendar during that year. Then print it in the format dd.mm.yyyy, where dd is the two-digit day, mm is the two-digit month, and yyyy is **Y**.\n",
        "\n",
        "For example, the given **year** = 1984. 1984 is divisible by 4, so it is a leap year. The 256th day of a leap year after 1918 is September 12, so the answer is **12.09.1984**."
      ]
    },
    {
      "cell_type": "code",
      "execution_count": null,
      "metadata": {
        "id": "Aa6nWMTcXyTk"
      },
      "outputs": [],
      "source": [
        "def dayOfProgrammer(year):\n",
        "  date=\"\"\n",
        "  if year>1918:\n",
        "    if (year%400==0) or (year%4==0 and year%100!=0):\n",
        "       date=date+f\"12.09.{year}\"\n",
        "    else:\n",
        "      date=date+f\"13.09.{year}\"\n",
        "  elif year<1918:\n",
        "    if year%4==0:\n",
        "      date=date+f\"12.09.{year}\"\n",
        "    else:\n",
        "      date=date+f\"13.09.{year}\"\n",
        "  else:\n",
        "    date=date+f\"26.09.{year}\"\n",
        "\n",
        "  return date\n",
        "    # Write your code here"
      ]
    },
    {
      "cell_type": "code",
      "execution_count": null,
      "metadata": {
        "colab": {
          "base_uri": "https://localhost:8080/"
        },
        "id": "D14ZwaGmX0Kr",
        "outputId": "2fcfdf7e-c368-4e84-f323-190ef0ab8253"
      },
      "outputs": [
        {
          "name": "stdout",
          "output_type": "stream",
          "text": [
            "12.09.2016\n",
            "13.09.2017\n",
            "12.09.1800\n"
          ]
        }
      ],
      "source": [
        "print(dayOfProgrammer(2016))\n",
        "print(dayOfProgrammer(2017))\n",
        "print(dayOfProgrammer(1800))"
      ]
    },
    {
      "cell_type": "markdown",
      "metadata": {
        "id": "jYnrkBekn0MH"
      },
      "source": [
        "**Problem no 5**\n",
        "\n",
        "Two friends Anna and Brian, are deciding how to split the bill at a dinner. Each will only pay for the items they consume. Brian gets the check and calculates Anna's portion. You must determine if his calculation is correct.\n",
        "\n",
        "For example, assume the bill has the following prices: **bill=[2,4,6]**. Anna declines to eat item **k=bill[2]**which costs 6. If Brian calculates the bill correctly, Anna will pay **(2+4)/2**. If he includes the cost of **bill[2]**, he will calculate **(2+4+6)/2**. In the second case, he should refund 3 to Anna."
      ]
    },
    {
      "cell_type": "code",
      "execution_count": null,
      "metadata": {
        "id": "TP6IkIYQnzk_"
      },
      "outputs": [],
      "source": [
        "def bonAppetit(bill, k, b):\n",
        "  result=\"Bon Appetit\"\n",
        "  if (k >=0 ):\n",
        "    if (sum(bill)-bill[k])/2 != b:\n",
        "      result=int(b-((sum(bill)-bill[k])/2))\n",
        "  return result\n",
        "\n",
        "    # Write your code here\n"
      ]
    },
    {
      "cell_type": "code",
      "execution_count": null,
      "metadata": {
        "colab": {
          "base_uri": "https://localhost:8080/"
        },
        "id": "0bp142rwgucE",
        "outputId": "fd1bfa19-bdf8-47c6-a74a-54445d2fe908"
      },
      "outputs": [
        {
          "name": "stdout",
          "output_type": "stream",
          "text": [
            "5\n",
            "Bon Appetit\n"
          ]
        }
      ],
      "source": [
        "bill=[3, 10, 2, 9]\n",
        "k=1\n",
        "b=12\n",
        "print(bonAppetit(bill,k,b))\n",
        "bill=[3, 10, 2, 9]\n",
        "k=1\n",
        "b=7\n",
        "print(bonAppetit(bill,k,b))\n"
      ]
    },
    {
      "cell_type": "code",
      "execution_count": null,
      "metadata": {
        "id": "Ajq1P--Jg9Jj"
      },
      "outputs": [],
      "source": [
        "def sockMerchant(n, ar):\n",
        "  pair=0\n",
        "  if n > 1:\n",
        "    ar.sort()\n",
        "    unique_ar=list(set(ar))\n",
        "\n",
        "    for i in unique_ar:\n",
        "      count=ar.count(i)\n",
        "      if count>1:\n",
        "        pair+=count//2\n",
        "  return pair\n",
        "    # Write your code here"
      ]
    },
    {
      "cell_type": "code",
      "execution_count": null,
      "metadata": {
        "colab": {
          "base_uri": "https://localhost:8080/"
        },
        "id": "eN9GDOFWtA2B",
        "outputId": "008690b5-04fb-4307-afb7-b0e602ba1342"
      },
      "outputs": [
        {
          "name": "stdout",
          "output_type": "stream",
          "text": [
            "3\n"
          ]
        }
      ],
      "source": [
        "ar=[10, 20, 20, 10, 10, 30, 50, 10, 20]\n",
        "n=len(ar)\n",
        "print(sockMerchant(n,ar))"
      ]
    },
    {
      "cell_type": "markdown",
      "metadata": {
        "id": "Ix998JnXznC9"
      },
      "source": [
        "**Problem no 6**\n",
        "\n",
        "\n",
        "A teacher asks the class to open their books to a page number. A student can either start turning pages from the front of the book or from the back of the book. They always turn pages one at a time. When they open the book, page  is always on the right side:\n",
        "\n",
        "When they flip page **1**, they see pages **2** and **3**. Each page except the last page will always be printed on both sides. The last page may only be printed on the front, given the length of the book. If the book is **n** pages long, and a student wants to turn to page **p**, what is the minimum number of pages to turn? They can start at the beginning or the end of the book.\n",
        "\n",
        "Given **n** and **p**, find and print the minimum number of pages that must be turned in order to arrive at page **p**."
      ]
    },
    {
      "cell_type": "code",
      "execution_count": null,
      "metadata": {
        "id": "Cp083a-UtWYI"
      },
      "outputs": [],
      "source": [
        "def pageCount(n, p):\n",
        "    turn=0\n",
        "    min=p-1\n",
        "    if n-p <= min:\n",
        "      min = n-p\n",
        "      if (n % 2 == 0) and (p % 2 != 0):\n",
        "        turn+=(min//2)+1\n",
        "      else:\n",
        "        turn+=min//2\n",
        "    else:\n",
        "      if p % 2 == 0:\n",
        "        turn+=p//2\n",
        "      else:\n",
        "        turn+=min//2\n",
        "\n",
        "    return int(turn)\n",
        "\n",
        "    # Write your code here"
      ]
    },
    {
      "cell_type": "code",
      "execution_count": null,
      "metadata": {
        "colab": {
          "base_uri": "https://localhost:8080/"
        },
        "id": "x72i1uJ3v2XF",
        "outputId": "f0c4b8ee-1218-4468-e769-7b51c99ab68c"
      },
      "outputs": [
        {
          "name": "stdout",
          "output_type": "stream",
          "text": [
            "1\n",
            "1\n",
            "0\n",
            "70\n"
          ]
        }
      ],
      "source": [
        "n=5\n",
        "p=3\n",
        "print(pageCount(n,p))\n",
        "n=6\n",
        "p=2\n",
        "print(pageCount(n,p))\n",
        "n=5\n",
        "p=4\n",
        "print(pageCount(n,p))\n",
        "n=18183\n",
        "p=18042\n",
        "print(pageCount(n,p))\n"
      ]
    },
    {
      "cell_type": "markdown",
      "metadata": {},
      "source": [
        "Date 11/10/2022\n",
        "\n",
        "Problem No 07\n",
        "\n",
        "\n",
        "An avid hiker keeps meticulous records of their hikes. During the last hike that took exactly  steps, for every step it was noted if it was an uphill, , or a downhill,  step. Hikes always start and end at sea level, and each step up or down represents a  unit change in altitude. We define the following terms:\n",
        "\n",
        "A mountain is a sequence of consecutive steps above sea level, starting with a step up from sea level and ending with a step down to sea level.\n",
        "A valley is a sequence of consecutive steps below sea level, starting with a step down from sea level and ending with a step up to sea level.\n",
        "Given the sequence of up and down steps during a hike, find and print the number of valleys walked through.\n",
        "\n",
        "Function Description\n",
        "\n",
        "Complete the countingValleys function in the editor below.\n",
        "\n",
        "countingValleys has the following parameter(s):\n",
        "\n",
        "int steps: the number of steps on the hike\n",
        "string path: a string describing the path\n",
        "Returns\n",
        "\n",
        "int: the number of valleys traversed\n",
        "Input Format\n",
        "\n",
        "The first line contains an integer steps, the number of steps in the hike.\n",
        "The second line contains a single string path, of steps characters that describe the path.\n"
      ]
    },
    {
      "cell_type": "code",
      "execution_count": null,
      "metadata": {
        "id": "F6JP7sTb9TuI"
      },
      "outputs": [
        {
          "name": "stdout",
          "output_type": "stream",
          "text": [
            "2\n"
          ]
        }
      ],
      "source": [
        "def countingValleys(steps, path):\n",
        "    pre_level=0\n",
        "    new_level=0\n",
        "    valley=0\n",
        "\n",
        "    path=path.lower()\n",
        "\n",
        "    for i in path:\n",
        "\n",
        "        if i == \"u\":\n",
        "            new_level += 1\n",
        "        elif i == \"d\":\n",
        "            new_level -= 1\n",
        "        \n",
        "        if (pre_level==0) and (new_level<pre_level):\n",
        "            valley += 1\n",
        "        \n",
        "        pre_level = new_level\n",
        "\n",
        "\n",
        "    return valley\n",
        "\n",
        "\n",
        "#    ----- TEST CASE -----   #\n",
        "\n",
        "\n",
        "path = \"DDUUDDUDUUUD\"\n",
        "steps=8\n",
        "\n",
        "\n",
        "print(countingValleys(steps, path))\n"
      ]
    },
    {
      "cell_type": "markdown",
      "metadata": {},
      "source": [
        "_    _      /\\_ \n",
        " \\  / \\    /    \n",
        "  \\/   \\/\\/"
      ]
    },
    {
      "cell_type": "markdown",
      "metadata": {},
      "source": [
        "Date 12-10-2022\n",
        "\n",
        "Problem No 12\n",
        "\n",
        "We define a magic square to be an nxn matrix of distinct positive integers from 1 to n^2 where the sum of any row, column, or diagonal of length n is always equal to the same number: the magic constant.\n",
        "\n",
        "You will be given a 3x3 matrix  of integers in the inclusive range [1,9]. We can convert any digit  to any other digit  in the range  at cost of . Given , convert it into a magic square at minimal cost. Print this cost on a new line.\n",
        "\n",
        "Note: The resulting magic square must contain distinct integers in the inclusive range .\n",
        "\n",
        "Example\n",
        "\n",
        "s = [[5, 3, 4], [1, 5, 8], [6, 4, 2]]\n",
        "\n",
        "5 3 4\n",
        "1 5 8\n",
        "6 4 2\n",
        "\n",
        "We can convert it to the following magic square:\n",
        "\n",
        "8 3 4\n",
        "1 5 9\n",
        "6 7 2\n",
        "\n",
        "This took three replacements at a cost of |5-8| + |8-9| |4-7| = 7."
      ]
    },
    {
      "cell_type": "code",
      "execution_count": null,
      "metadata": {},
      "outputs": [
        {
          "name": "stdout",
          "output_type": "stream",
          "text": [
            "1\n",
            "7\n",
            "4\n"
          ]
        }
      ],
      "source": [
        "import copy as cp\n",
        "\n",
        "# Function to rotate the matrix\n",
        "# 90 degree clockwise\n",
        "def rotateCube(A):\n",
        "    N = 3\n",
        "    for i in range(N // 2):\n",
        "        for j in range(i, N - i - 1):\n",
        "            temp = A[i][j]\n",
        "            A[i][j] = A[N - 1 - j][i]\n",
        "            A[N - 1 - j][i] = A[N - 1 - i][N - 1 - j]\n",
        "            A[N - 1 - i][N - 1 - j] = A[j][N - 1 - i]\n",
        "            A[j][N - 1 - i] = temp\n",
        "\n",
        "## function to reflect matrix along y-axis\n",
        "\n",
        "def reflectCube(A):\n",
        "    for i in range(3):\n",
        "        hold = A[i][0]\n",
        "        A[i][0]=A[i][-1]\n",
        "        A[i][-1]=hold\n",
        "\n",
        "\n",
        "def allMagicCube():\n",
        "    allPoMcs=[]\n",
        "    magicCube=[[8,1,6],[3,5,7],[4,9,2]]\n",
        "    allPoMcs.append(cp.deepcopy(magicCube))\n",
        "    rfCube=cp.deepcopy(magicCube)\n",
        "    reflectCube(rfCube)\n",
        "    allPoMcs.append(cp.deepcopy(rfCube))\n",
        "    for i in range(3):\n",
        "        rotateCube(magicCube)\n",
        "        allPoMcs.append(cp.deepcopy(magicCube))\n",
        "        rotateCube(rfCube)\n",
        "        allPoMcs.append(cp.deepcopy(rfCube))\n",
        "    \n",
        "    return allPoMcs\n",
        "\n",
        "def formingMagicSquare(s):\n",
        "\n",
        "    magicCube=allMagicCube()\n",
        "\n",
        "    cost=[]\n",
        "\n",
        "\n",
        "\n",
        "    for i in magicCube:\n",
        "        initCost=0\n",
        "        for j in range(len(i[0])):\n",
        "\n",
        "            for k in range(len(i[0])):\n",
        "\n",
        "                initCost += abs(s[j][k]-i[j][k])\n",
        "\n",
        "        cost.append(abs(initCost))\n",
        "\n",
        "\n",
        "    return min(cost)\n",
        "\n",
        "\n",
        "\n",
        "###     ---------------      TEST CASES      ----------------       ###\n",
        "\n",
        "\n",
        "print(formingMagicSquare([[4,9,2],[3,5,7],[8,1,5]]))\n",
        "print(formingMagicSquare([[5, 3, 4], [1, 5, 8], [6, 4, 2]]))\n",
        "print(formingMagicSquare([[4,8,2],[4,5,7],[6,1,6]]))\n",
        "\n"
      ]
    },
    {
      "cell_type": "markdown",
      "metadata": {},
      "source": [
        "Problem No 13\n",
        "\n",
        "14-10-2022\n",
        "\n",
        "Given an array of integers, find the longest subarray where the absolute difference between any two elements is less than or equal to 1.\n",
        "\n",
        "Example\n",
        "\n",
        "a=[1,1,2,2,4,4,5,5,5]\n",
        "\n",
        "There are two subarrays meeting the criterion: [1,1,2,2] and [4,4,5,5,5]. The maximum length subarray has 5 elements.\n",
        "\n",
        "Function Description\n",
        "\n",
        "Complete the pickingNumbers function in the editor below.\n",
        "\n",
        "pickingNumbers has the following parameter(s):\n",
        "\n",
        "int a[n]: an array of integers\n",
        "\n",
        "Returns\n",
        "\n",
        "int: the length of the longest subarray that meets the criterion\n",
        "Input Format\n",
        "\n",
        "The first line contains a single integer n, the size of the array a.\n",
        "The second line contains n space-separated integers, each an a[i]."
      ]
    },
    {
      "cell_type": "code",
      "execution_count": 6,
      "metadata": {},
      "outputs": [
        {
          "name": "stdout",
          "output_type": "stream",
          "text": [
            "3\n"
          ]
        }
      ],
      "source": [
        "def pickingNumbers(a):\n",
        "    a=list(a)\n",
        "    a.sort()\n",
        "    subArrays=[]\n",
        "    for i in range(len(a)):\n",
        "        lenOfsubArray=1\n",
        "        j=i\n",
        "        while ((j<(len(a)-1)) and (a[j+1]-a[i]<=1)):\n",
        "            lenOfsubArray+=1\n",
        "            j+=1\n",
        "        subArrays.append(lenOfsubArray)\n",
        "\n",
        "    return max(subArrays)\n",
        "\n",
        "\n",
        "###     ---------------     TEST CASE       ------------------      ###\n",
        "\n",
        "print(pickingNumbers([4,6,5,3,3,1]))\n"
      ]
    },
    {
      "cell_type": "markdown",
      "metadata": {},
      "source": [
        "Problem No 14\n",
        "\n",
        "HackerRank Problem Link = https://www.hackerrank.com/challenges/climbing-the-leaderboard/problem?isFullScreen=true&h_r=next-challenge&h_v=zen\n",
        "\n",
        "\n",
        "15-10-2022\n",
        "\n",
        "An arcade game player wants to climb to the top of the leaderboard and track their ranking. The game uses Dense Ranking, so its leaderboard works like this:\n",
        "\n",
        "The player with the highest score is ranked number 1 on the leaderboard.\n",
        "Players who have equal scores receive the same ranking number, and the next player(s) receive the immediately following ranking number.\n",
        "\n",
        "Example\n",
        "\n",
        "ranked=[100,90,90,80]\n",
        "player=[70,80,105]\n",
        "\n",
        "The ranked players will have ranks 1, 2, 2, and 3, respectively. If the player's scores are 70, 80 and 105, their rankings after each game are 4th, 3rd and 1st. Return [4,3,1].\n",
        "\n",
        "Function Description\n",
        "\n",
        "Complete the climbingLeaderboard function in the editor below.\n",
        "\n",
        "climbingLeaderboard has the following parameter(s):\n",
        "\n",
        "int ranked[n]: the leaderboard scores\n",
        "int player[m]: the player's scores\n",
        "Returns\n",
        "\n",
        "int[m]: the player's rank after each new score\n",
        "Input Format\n",
        "\n",
        "The first line contains an integer n, the number of players on the leaderboard.\n",
        "The next line contains n space-separated integers ranked[i], the leaderboard scores in decreasing order.\n",
        "The next line contains an integer, m, the number games the player plays.\n",
        "The last line contains m space-separated integers player[j], the game scores.\n"
      ]
    },
    {
      "cell_type": "code",
      "execution_count": 1,
      "metadata": {},
      "outputs": [
        {
          "name": "stdout",
          "output_type": "stream",
          "text": [
            "14\n"
          ]
        }
      ],
      "source": [
        "\n",
        "def binarySearch(arr,x):\n",
        "    positonOfX=-1\n",
        "    _min=0\n",
        "    _max=len(arr)-1\n",
        "    pre_mid=-1\n",
        "\n",
        "    \n",
        "\n",
        "    Flag=True\n",
        "    while Flag:\n",
        "\n",
        "        mid=(_max + _min)//2\n",
        "\n",
        "        if mid == pre_mid:\n",
        "\n",
        "            break\n",
        "        else:\n",
        "\n",
        "            pre_mid=mid\n",
        "            \n",
        "            if arr[mid] > x:\n",
        "\n",
        "                if mid == len(arr)-1:\n",
        "                \n",
        "                    break\n",
        "\n",
        "                else:\n",
        "\n",
        "                    _min = mid+1\n",
        "\n",
        "            elif arr[mid] < x:\n",
        "\n",
        "                if mid == 0:\n",
        " \n",
        "                    break\n",
        "                else:            \n",
        "                    _max = mid-1\n",
        "\n",
        "            else:\n",
        "\n",
        "                positonOfX=mid+1\n",
        "\n",
        "                Flag = False\n",
        "\n",
        "                break\n",
        "\n",
        "\n",
        "    return(positonOfX)\n",
        "\n",
        "\n",
        "\n",
        "\n",
        "\n",
        "###     ------------    TEST CASE   -----------     ###\n",
        "\n",
        "\n",
        "arr=[2,5,8,12,11,10,6,15,13,14,17,1,2,20,18,19,20]\n",
        "\n",
        "arr.sort(reverse=True)\n",
        "\n",
        "x=5\n",
        "\n",
        "print(binarySearch(arr,x))\n",
        "\n",
        "\n"
      ]
    },
    {
      "cell_type": "code",
      "execution_count": 2,
      "metadata": {},
      "outputs": [
        {
          "name": "stdout",
          "output_type": "stream",
          "text": [
            "[94, 78, 54, 35, 8, 7, 6, 5, 4, 2, 1]\n"
          ]
        }
      ],
      "source": [
        "def bsForPsblePos(arr,x):\n",
        "    positonOfX=len(arr)*len(arr)\n",
        "    _min=0\n",
        "    _max=len(arr)-1\n",
        "    pre_mid=len(arr)+1\n",
        "\n",
        "    \n",
        "\n",
        "    Flag=True\n",
        "\n",
        "    while Flag:\n",
        "\n",
        "        mid=(_max + _min)//2\n",
        "\n",
        "        if arr[mid]==x:\n",
        "\n",
        "            positonOfX=mid\n",
        "            Flag = False\n",
        "            break\n",
        "\n",
        "        elif mid==0:\n",
        "            if arr[mid] > x:\n",
        "                positonOfX=mid+1\n",
        "            else:\n",
        "                positonOfX = mid\n",
        "\n",
        "            Flag = False\n",
        "            break\n",
        "\n",
        "        elif mid==len(arr)-1:\n",
        "\n",
        "            if arr[mid] > x:\n",
        "                \n",
        "                positonOfX=mid+1\n",
        "\n",
        "            else:\n",
        "                positonOfX = mid\n",
        "\n",
        "            Flag = False\n",
        "            break\n",
        "\n",
        "        elif arr[mid] < x and arr[mid-1] > x:\n",
        "\n",
        "            positonOfX = mid\n",
        "            Flag = False\n",
        "            break\n",
        "\n",
        "        elif arr[mid] > x and arr[mid+1] < x:\n",
        "\n",
        "            positonOfX = mid+1\n",
        "            Flag = False\n",
        "            break\n",
        "                \n",
        "        else:\n",
        "\n",
        "            pre_mid=abs(mid)\n",
        "            \n",
        "            if arr[mid] > x:\n",
        "\n",
        "                _min = mid+1\n",
        "\n",
        "            elif arr[mid] < x:            \n",
        "\n",
        "                _max = mid-1\n",
        "\n",
        "    return(positonOfX)\n",
        "\n",
        "\n",
        "###     ------------        TEST CASE       ------------    ###\n",
        "\n",
        "arr=[4,5,6,8,7,2,6,4,8,54,78,94,35]\n",
        "x=1\n",
        "arr=set(arr)\n",
        "arr=list(arr)\n",
        "arr.sort(reverse=True)\n",
        "ind=bsForPsblePos(arr,x)\n",
        "arr.insert(ind,x)\n",
        "print(arr)"
      ]
    },
    {
      "cell_type": "code",
      "execution_count": 3,
      "metadata": {},
      "outputs": [
        {
          "data": {
            "text/plain": [
              "[6, 4, 2, 1]"
            ]
          },
          "execution_count": 3,
          "metadata": {},
          "output_type": "execute_result"
        }
      ],
      "source": [
        "def climbingLeaderboard(ranked, player):\n",
        "    ranked=set(ranked)\n",
        "    ranked=list(ranked)\n",
        "    ranked.sort(reverse=True)\n",
        "    leaderboard=[]\n",
        "    for i in player:\n",
        "        if binarySearch(ranked,i)==-1:\n",
        "            ind=bsForPsblePos(ranked,i)\n",
        "            ranked.insert(ind,i)\n",
        "            leaderboard.append(ind+1)\n",
        "        else:\n",
        "            leaderboard.append(binarySearch(ranked,i))\n",
        "    return leaderboard\n",
        "\n",
        "\n",
        "###     ---------------        TEST CASE       ---------------      ###\n",
        "\n",
        "\n",
        "#   TEST CASE 1\n",
        "\n",
        "ranked=[100,100,50,40,40,20,10]\n",
        "player=[5,25,50,120]\n",
        "climbingLeaderboard(ranked,player)\n"
      ]
    },
    {
      "cell_type": "code",
      "execution_count": 7,
      "metadata": {},
      "outputs": [
        {
          "name": "stdout",
          "output_type": "stream",
          "text": [
            "[199975, 199974, 199974, 199972, 199972, 199966, 199965, 199962, 199958, 199957, 199957, 199956, 199954, 199953, 199952, 199951, 199950, 199948, 199947, 199947]\n"
          ]
        }
      ],
      "source": [
        "#   TEST CASE 2\n",
        "\n",
        "with open(\"C:/Users/owais/Desktop/Hacker-Rank-Solution-main/player.txt\",\"r\") as f:\n",
        "    player=f.read()\n",
        "    player_init=player.split(\" \")\n",
        "    player=[]\n",
        "    for i in range(len(player_init)):\n",
        "\n",
        "        item=player_init[i]\n",
        "        item=int(item)\n",
        "\n",
        "        if type(item)==int:\n",
        "            player.append(item)\n",
        "\n",
        "\n",
        "\n",
        "\n",
        "\n",
        "with open(\"C:/Users/owais/Desktop/Hacker-Rank-Solution-main/ranked.txt\",\"r\") as f:\n",
        "    ranked=f.read()\n",
        "    ranked_init=ranked.split(\" \")\n",
        "    ranked=[]\n",
        "    for i in range(len(ranked_init)):\n",
        "\n",
        "        item=ranked_init[i]\n",
        "        item=int(item)\n",
        "\n",
        "        if type(item)==int:\n",
        "            ranked.append(item)\n",
        "\n",
        "\n",
        "a=climbingLeaderboard(ranked,player)\n",
        "\n",
        "print(a[:20])"
      ]
    },
    {
      "cell_type": "markdown",
      "metadata": {},
      "source": [
        "Problem 16\n",
        "\n",
        "Date 20-10-2022\n",
        "\n",
        "Statement:-\n",
        "        When a contiguous block of text is selected in a PDF viewer, the selection is highlighted with a blue rectangle. In this PDF viewer, each word is highlighted independently. For example:\n",
        "\n",
        "        There is a list of 26 character heights aligned by index to their letters. For example, 'a' is at index 0 and 'z' is at index 25. There will also be a string. Using the letter heights given, determine the area of the rectangle highlight in mm^2 assuming all letters are 1mm wide.\n",
        "\n",
        "        For example:-\n",
        "        \n",
        "            Input:-\n",
        "                h = [1, 3, 1, 3, 1, 4, 1, 3, 2, 5, 5, 5, 5, 5, 5, 5, 5, 5, 5, 5, 5, 5, 5, 5, 5, 5,]word= \"abc\"\n",
        "\n",
        "            Output:\n",
        "                9\n",
        "            \n",
        "            Explanation:-\n",
        "                We are highlighting the word abc:\n",
        "                Letter heights are a=1, b=3 and c=1. The tallest letter, b, is 3mm high. The selection area for this word is 3.1mm*3mm = 9mm^2.\n",
        "\n",
        "        Function Description\n",
        "\n",
        "            Complete the designerPdfViewer function in the editor below.\n",
        "\n",
        "            designerPdfViewer has the following parameter(s):\n",
        "\n",
        "            int h[26]: the heights of each letter\n",
        "            string word: a string\n",
        "\n",
        "        Returns\n",
        "\n",
        "            int: the size of the highlighted area\n",
        "\n",
        "        Input Format\n",
        "\n",
        "            The first line contains  space-separated integers describing the respective heights of each consecutive lowercase English letter, ascii[a-z].\n",
        "            The second line contains a single word consisting of lowercase English alphabetic letters.\n",
        "\n"
      ]
    },
    {
      "cell_type": "code",
      "execution_count": 6,
      "metadata": {},
      "outputs": [
        {
          "name": "stdout",
          "output_type": "stream",
          "text": [
            "1\n",
            "3\n",
            "1\n",
            "3\n"
          ]
        },
        {
          "data": {
            "text/plain": [
              "9"
            ]
          },
          "execution_count": 6,
          "metadata": {},
          "output_type": "execute_result"
        }
      ],
      "source": [
        "def designerPdfViewer(h, word):\n",
        "    max_height=0\n",
        "    for i in word:\n",
        "        height=h[ord(i)-97]\n",
        "        if height>max_height:\n",
        "            max_height=height\n",
        "\n",
        "    return max_height*len(word)\n",
        "\n",
        "\n",
        "###     ---------------     TEST CASE       --------------      ###\n",
        "\n",
        "h = [1, 3, 1, 3, 1, 4, 1, 3, 2, 5, 5, 5, 5, 5, 5, 5, 5, 5, 5, 5, 5, 5, 5, 5, 5, 5,]\n",
        "word= \"abc\"\n",
        "\n",
        "designerPdfViewer(h,word)\n"
      ]
    },
    {
      "cell_type": "code",
      "execution_count": null,
      "metadata": {},
      "outputs": [],
      "source": []
    }
  ],
  "metadata": {
    "colab": {
      "collapsed_sections": [],
      "name": "Hackerrank-problems.ipynb",
      "provenance": []
    },
    "kernelspec": {
      "display_name": "Python 3.9.7 ('base')",
      "language": "python",
      "name": "python3"
    },
    "language_info": {
      "codemirror_mode": {
        "name": "ipython",
        "version": 3
      },
      "file_extension": ".py",
      "mimetype": "text/x-python",
      "name": "python",
      "nbconvert_exporter": "python",
      "pygments_lexer": "ipython3",
      "version": "3.9.7"
    },
    "vscode": {
      "interpreter": {
        "hash": "4f90aa362a5d1c98ba2cb40d4909fec7c56c3fbc8f3fc1d3b89bf882dad18a1e"
      }
    }
  },
  "nbformat": 4,
  "nbformat_minor": 0
}
