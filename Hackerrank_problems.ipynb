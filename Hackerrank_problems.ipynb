{
  "nbformat": 4,
  "nbformat_minor": 0,
  "metadata": {
    "colab": {
      "name": "Hackerrank-problems.ipynb",
      "provenance": [],
      "collapsed_sections": []
    },
    "kernelspec": {
      "name": "python3",
      "display_name": "Python 3"
    },
    "language_info": {
      "name": "python"
    }
  },
  "cells": [
    {
      "cell_type": "markdown",
      "source": [
        "**DATE: 04/03/2022**\n",
        "\n",
        "**HACKER RANK PROBLEM**\n",
        "\n",
        "**LEVEL: EASY** \n",
        "\n",
        "\n",
        "\n",
        "\n",
        "\n"
      ],
      "metadata": {
        "id": "twqWYMjHNX3L"
      }
    },
    {
      "cell_type": "markdown",
      "source": [
        "**Problem no 1**\n",
        "\n",
        "Two children, Lily and Ron, want to share a chocolate bar. Each of the squares has an integer on it.\n",
        "\n",
        "Lily decides to share a contiguous segment of the bar selected such that:\n",
        "\n",
        "The length of the segment matches Ron's birth month, and,\n",
        "The sum of the integers on the squares is equal to his birth day.\n",
        "Determine how many ways she can divide the chocolate.\n",
        "\n"
      ],
      "metadata": {
        "id": "tNhnTsy-IXlU"
      }
    },
    {
      "cell_type": "code",
      "source": [
        "def birthday(s, d, m):\n",
        "    count=0\n",
        "    start=0\n",
        "    end=m\n",
        "    if m > len(s):\n",
        "      return count\n",
        "    else:\n",
        "      for i in range(len(s)-(m-1)):\n",
        "        sum_=s[start:end]\n",
        "        sum_=sum(sum_)\n",
        "        start+=1\n",
        "        end+=1\n",
        "        if sum_ == d:\n",
        "          count+=1\n",
        "\n",
        "      return count\n",
        "\n"
      ],
      "metadata": {
        "id": "dU3Ynnq4Iddr"
      },
      "execution_count": null,
      "outputs": []
    },
    {
      "cell_type": "code",
      "source": [
        "s=[2,2,1,3,4]\n",
        "d=4\n",
        "m=2\n",
        "\n",
        "print(birthday(s,d,m))"
      ],
      "metadata": {
        "colab": {
          "base_uri": "https://localhost:8080/"
        },
        "id": "n-NBrdLTTdfa",
        "outputId": "21fe3290-e64d-4042-c492-a11dc138a765"
      },
      "execution_count": null,
      "outputs": [
        {
          "output_type": "stream",
          "name": "stdout",
          "text": [
            "2\n"
          ]
        }
      ]
    },
    {
      "cell_type": "markdown",
      "source": [
        "**Problem no 2**\n",
        "\n",
        "Given an array of integers and a positive k integer , determine the number of (i,j) pairs where i < j  and arr[i] + arr[j]  is divisible by k."
      ],
      "metadata": {
        "id": "G7nX9nfdOolX"
      }
    },
    {
      "cell_type": "code",
      "source": [
        "def divisibleSumPairs(n, k, ar):\n",
        "  count=0\n",
        "  if n > 1:\n",
        "    ar.sort()\n",
        "    for i in range(len(ar)):\n",
        "      for j in range(i+1,len(ar)):\n",
        "          if (((ar[i]+ar[j]) % k) == 0):\n",
        "            count+=1\n",
        "          else:\n",
        "            continue\n",
        "  return count\n",
        "\n",
        "    # Write your code here"
      ],
      "metadata": {
        "id": "ubMbH5OdJdPy"
      },
      "execution_count": null,
      "outputs": []
    },
    {
      "cell_type": "code",
      "source": [
        "ar=[1, 3, 2, 6, 1, 2]\n",
        "n=len(ar)\n",
        "k=3\n",
        "\n",
        "print(divisibleSumPairs(n,k,ar))\n"
      ],
      "metadata": {
        "colab": {
          "base_uri": "https://localhost:8080/"
        },
        "id": "fchLFHQoLI5y",
        "outputId": "f086f640-de3b-41ed-b208-437e95c2df7a"
      },
      "execution_count": null,
      "outputs": [
        {
          "output_type": "stream",
          "name": "stdout",
          "text": [
            "5\n"
          ]
        }
      ]
    },
    {
      "cell_type": "markdown",
      "source": [
        "**Problem no 3**\n",
        "\n",
        "Given an array of bird sightings where every element represents a bird type id, determine the id of the most frequently sighted type. If more than 1 type has been spotted that maximum amount, return the smallest of their ids."
      ],
      "metadata": {
        "id": "0tpni_LHWWyY"
      }
    },
    {
      "cell_type": "code",
      "source": [
        "def migratoryBirds(arr):\n",
        "  arr=list(arr)\n",
        "  arr.sort()\n",
        "  count=[]\n",
        "  unique_arr = list(set(arr))\n",
        "  for i in unique_arr:\n",
        "    count.append(arr.count(i))\n",
        "  \n",
        "  index=count.index(max(count))\n",
        "\n",
        "  value=unique_arr[index]\n",
        "\n",
        "  return value\n",
        "\n",
        "    # Write your code here"
      ],
      "metadata": {
        "id": "439dZeI8QDaX"
      },
      "execution_count": null,
      "outputs": []
    },
    {
      "cell_type": "code",
      "source": [
        "arr=[1,1,2,2,3]\n",
        "print(migratoryBirds(arr))"
      ],
      "metadata": {
        "colab": {
          "base_uri": "https://localhost:8080/"
        },
        "id": "biANWQdARcdK",
        "outputId": "cbd29f69-4f6b-41f3-cf57-b96dbe17fd77"
      },
      "execution_count": null,
      "outputs": [
        {
          "output_type": "stream",
          "name": "stdout",
          "text": [
            "1\n"
          ]
        }
      ]
    },
    {
      "cell_type": "markdown",
      "source": [
        "**Problem no 4**\n",
        "\n",
        "Marie invented a Time Machine and wants to test it by time-traveling to visit Russia on the Day of the Programmer (the 256th day of the year) during a year in the inclusive range from 1700 to 2700.\n",
        "\n",
        "From 1700 to 1917, Russia's official calendar was the Julian calendar; since 1919 they used the Gregorian calendar system. The transition from the Julian to Gregorian calendar system occurred in 1918, when the next day after January 31st was February 14th. This means that in 1918, February 14th was the 32nd day of the year in Russia.\n",
        "\n",
        "In both calendar systems, February is the only month with a variable amount of days; it has 29 days during a leap year, and 28 days during all other years. In the Julian calendar, leap years are divisible by 4; in the Gregorian calendar, leap years are either of the following:\n",
        "\n",
        "Divisible by 400.\n",
        "Divisible by 4 and not divisible by 100.\n",
        "\n",
        "Given a year, **Y**, find the date of the 256th day of that year according to the official Russian calendar during that year. Then print it in the format dd.mm.yyyy, where dd is the two-digit day, mm is the two-digit month, and yyyy is **Y**.\n",
        "\n",
        "For example, the given **year** = 1984. 1984 is divisible by 4, so it is a leap year. The 256th day of a leap year after 1918 is September 12, so the answer is **12.09.1984**."
      ],
      "metadata": {
        "id": "_ndeu8IwdjTp"
      }
    },
    {
      "cell_type": "code",
      "source": [
        "def dayOfProgrammer(year):\n",
        "  date=\"\"\n",
        "  if year>1918:\n",
        "    if (year%400==0) or (year%4==0 and year%100!=0):\n",
        "       date=date+f\"12.09.{year}\"\n",
        "    else:\n",
        "      date=date+f\"13.09.{year}\"\n",
        "  elif year<1918:\n",
        "    if year%4==0:\n",
        "      date=date+f\"12.09.{year}\"\n",
        "    else:\n",
        "      date=date+f\"13.09.{year}\"\n",
        "  else:\n",
        "    date=date+f\"26.09.{year}\"\n",
        "\n",
        "  return date\n",
        "    # Write your code here"
      ],
      "metadata": {
        "id": "Aa6nWMTcXyTk"
      },
      "execution_count": 70,
      "outputs": []
    },
    {
      "cell_type": "code",
      "source": [
        "print(dayOfProgrammer(2016))\n",
        "print(dayOfProgrammer(2017))\n",
        "print(dayOfProgrammer(1800))"
      ],
      "metadata": {
        "id": "D14ZwaGmX0Kr",
        "colab": {
          "base_uri": "https://localhost:8080/"
        },
        "outputId": "2fcfdf7e-c368-4e84-f323-190ef0ab8253"
      },
      "execution_count": 74,
      "outputs": [
        {
          "output_type": "stream",
          "name": "stdout",
          "text": [
            "12.09.2016\n",
            "13.09.2017\n",
            "12.09.1800\n"
          ]
        }
      ]
    },
    {
      "cell_type": "markdown",
      "source": [
        "**Problem no 5**\n",
        "\n",
        "Two friends Anna and Brian, are deciding how to split the bill at a dinner. Each will only pay for the items they consume. Brian gets the check and calculates Anna's portion. You must determine if his calculation is correct.\n",
        "\n",
        "For example, assume the bill has the following prices: **bill=[2,4,6]**. Anna declines to eat item **k=bill[2]**which costs 6. If Brian calculates the bill correctly, Anna will pay **(2+4)/2**. If he includes the cost of **bill[2]**, he will calculate **(2+4+6)/2**. In the second case, he should refund 3 to Anna."
      ],
      "metadata": {
        "id": "jYnrkBekn0MH"
      }
    },
    {
      "cell_type": "code",
      "source": [
        "def bonAppetit(bill, k, b):\n",
        "  result=\"Bon Appetit\"\n",
        "  if (k >=0 ):\n",
        "    if (sum(bill)-bill[k])/2 != b:\n",
        "      result=int(b-((sum(bill)-bill[k])/2))\n",
        "  return result\n",
        "\n",
        "    # Write your code here\n"
      ],
      "metadata": {
        "id": "TP6IkIYQnzk_"
      },
      "execution_count": 79,
      "outputs": []
    },
    {
      "cell_type": "code",
      "source": [
        "bill=[3, 10, 2, 9]\n",
        "k=1\n",
        "b=12\n",
        "print(bonAppetit(bill,k,b))\n",
        "bill=[3, 10, 2, 9]\n",
        "k=1\n",
        "b=7\n",
        "print(bonAppetit(bill,k,b))\n"
      ],
      "metadata": {
        "colab": {
          "base_uri": "https://localhost:8080/"
        },
        "id": "0bp142rwgucE",
        "outputId": "fd1bfa19-bdf8-47c6-a74a-54445d2fe908"
      },
      "execution_count": 81,
      "outputs": [
        {
          "output_type": "stream",
          "name": "stdout",
          "text": [
            "5\n",
            "Bon Appetit\n"
          ]
        }
      ]
    },
    {
      "cell_type": "code",
      "source": [
        "def sockMerchant(n, ar):\n",
        "  pair=0\n",
        "  if n > 1:\n",
        "    ar.sort()\n",
        "    unique_ar=list(set(ar))\n",
        "\n",
        "    for i in unique_ar:\n",
        "      count=ar.count(i)\n",
        "      if count>1:\n",
        "        pair+=count//2\n",
        "  return pair\n",
        "    # Write your code here"
      ],
      "metadata": {
        "id": "Ajq1P--Jg9Jj"
      },
      "execution_count": 92,
      "outputs": []
    },
    {
      "cell_type": "code",
      "source": [
        "ar=[10, 20, 20, 10, 10, 30, 50, 10, 20]\n",
        "n=len(ar)\n",
        "print(sockMerchant(n,ar))"
      ],
      "metadata": {
        "colab": {
          "base_uri": "https://localhost:8080/"
        },
        "id": "eN9GDOFWtA2B",
        "outputId": "008690b5-04fb-4307-afb7-b0e602ba1342"
      },
      "execution_count": 93,
      "outputs": [
        {
          "output_type": "stream",
          "name": "stdout",
          "text": [
            "3\n"
          ]
        }
      ]
    },
    {
      "cell_type": "markdown",
      "source": [
        "**Problem no 6**\n",
        "\n",
        "\n",
        "A teacher asks the class to open their books to a page number. A student can either start turning pages from the front of the book or from the back of the book. They always turn pages one at a time. When they open the book, page  is always on the right side:\n",
        "\n",
        "When they flip page **1**, they see pages **2** and **3**. Each page except the last page will always be printed on both sides. The last page may only be printed on the front, given the length of the book. If the book is **n** pages long, and a student wants to turn to page **p**, what is the minimum number of pages to turn? They can start at the beginning or the end of the book.\n",
        "\n",
        "Given **n** and **p**, find and print the minimum number of pages that must be turned in order to arrive at page **p**."
      ],
      "metadata": {
        "id": "Ix998JnXznC9"
      }
    },
    {
      "cell_type": "code",
      "source": [
        "def pageCount(n, p):\n",
        "    turn=0\n",
        "    min=p-1\n",
        "    if n-p <= min:\n",
        "      min = n-p\n",
        "      if (n % 2 == 0) and (p % 2 != 0):\n",
        "        turn+=(min//2)+1\n",
        "      else:\n",
        "        turn+=min//2\n",
        "    else:\n",
        "      if p % 2 == 0:\n",
        "        turn+=p//2\n",
        "      else:\n",
        "        turn+=min//2\n",
        "\n",
        "    return int(turn)\n",
        "\n",
        "    # Write your code here"
      ],
      "metadata": {
        "id": "Cp083a-UtWYI"
      },
      "execution_count": 124,
      "outputs": []
    },
    {
      "cell_type": "code",
      "source": [
        "n=5\n",
        "p=3\n",
        "print(pageCount(n,p))\n",
        "n=6\n",
        "p=2\n",
        "print(pageCount(n,p))\n",
        "n=5\n",
        "p=4\n",
        "print(pageCount(n,p))\n",
        "n=18183\n",
        "p=18042\n",
        "print(pageCount(n,p))\n"
      ],
      "metadata": {
        "colab": {
          "base_uri": "https://localhost:8080/"
        },
        "id": "x72i1uJ3v2XF",
        "outputId": "f0c4b8ee-1218-4468-e769-7b51c99ab68c"
      },
      "execution_count": 126,
      "outputs": [
        {
          "output_type": "stream",
          "name": "stdout",
          "text": [
            "1\n",
            "1\n",
            "0\n",
            "70\n"
          ]
        }
      ]
    },
    {
      "cell_type": "code",
      "source": [
        ""
      ],
      "metadata": {
        "id": "DpeQ8zEoLBan"
      },
      "execution_count": 123,
      "outputs": []
    },
    {
      "cell_type": "code",
      "source": [
        ""
      ],
      "metadata": {
        "id": "F6JP7sTb9TuI"
      },
      "execution_count": 123,
      "outputs": []
    },
    {
      "cell_type": "code",
      "source": [
        ""
      ],
      "metadata": {
        "id": "bUCIYnMaEauL"
      },
      "execution_count": null,
      "outputs": []
    }
  ]
}