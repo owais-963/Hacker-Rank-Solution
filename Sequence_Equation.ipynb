{
  "nbformat": 4,
  "nbformat_minor": 0,
  "metadata": {
    "colab": {
      "provenance": [],
      "authorship_tag": "ABX9TyNbD2Mgn0zlK4Bu/GhPUw2T",
      "include_colab_link": true
    },
    "kernelspec": {
      "name": "python3",
      "display_name": "Python 3"
    },
    "language_info": {
      "name": "python"
    }
  },
  "cells": [
    {
      "cell_type": "markdown",
      "metadata": {
        "id": "view-in-github",
        "colab_type": "text"
      },
      "source": [
        "<a href=\"https://colab.research.google.com/github/owais-963/Hacker-Rank-Solution/blob/main/Sequence_Equation.ipynb\" target=\"_parent\"><img src=\"https://colab.research.google.com/assets/colab-badge.svg\" alt=\"Open In Colab\"/></a>"
      ]
    },
    {
      "cell_type": "code",
      "execution_count": null,
      "metadata": {
        "id": "3QsI2HEe9zms"
      },
      "outputs": [],
      "source": []
    },
    {
      "cell_type": "markdown",
      "source": [
        "###HACKER RANK SEQUENCE EQUATION PROBLEM\n",
        "\n",
        "Date: 16-09-2024\n",
        "\n",
        "Dificulty level: Easy\n",
        "\n",
        "Link: https://www.hackerrank.com/challenges/permutation-equation/problem?isFullScreen=true\n",
        "\n",
        "###PROBLE DISCRIPTION:\n",
        "\n",
        "Given the sequence of integer p(1), p(2), p(3), ..., p(n)\n",
        "\n",
        "where,\n",
        "\n",
        " **1 ≤ p(x) ≤ n**   &   **1 ≤ x ≤ n.**\n",
        "\n",
        "Have to find integer **y**\n",
        "\n",
        "such that **p(p(y)) = x**\n",
        "\n",
        "**Example:**\n",
        "\n",
        "p=[5,2,1,3,4]\n",
        "\n",
        "n=5\n",
        "\n",
        "1 ≤ x ≤ 5\n",
        "\n",
        "for x = 1 = p(3) = p(p(4)) = x so, y=4\n",
        "\n",
        "e.g\n",
        "p(4) = 3"
      ],
      "metadata": {
        "id": "EIhbO6mo_G7k"
      }
    },
    {
      "cell_type": "code",
      "source": [
        "def permutationEquation(p):\n",
        "  result = []\n",
        "  for x in range(1, len(p)+1):\n",
        "    result.append(p.index(p.index(x)+1)+1)\n",
        "  return result"
      ],
      "metadata": {
        "id": "tbBKLz7yo5h8"
      },
      "execution_count": null,
      "outputs": []
    },
    {
      "cell_type": "code",
      "source": [
        "p=[5,2,1,3,4]"
      ],
      "metadata": {
        "id": "fzDKVf6NtZe8"
      },
      "execution_count": null,
      "outputs": []
    },
    {
      "cell_type": "code",
      "source": [
        "permutationEquation(p)"
      ],
      "metadata": {
        "colab": {
          "base_uri": "https://localhost:8080/"
        },
        "id": "QI5vFy2Mv5nL",
        "outputId": "40a5cd93-a4b5-4e9a-d9ea-66d569910408"
      },
      "execution_count": null,
      "outputs": [
        {
          "output_type": "execute_result",
          "data": {
            "text/plain": [
              "[4, 2, 5, 1, 3]"
            ]
          },
          "metadata": {},
          "execution_count": 20
        }
      ]
    },
    {
      "cell_type": "code",
      "source": [],
      "metadata": {
        "id": "3uBxhvyQv7vy"
      },
      "execution_count": null,
      "outputs": []
    }
  ]
}